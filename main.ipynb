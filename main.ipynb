{
 "cells": [
  {
   "cell_type": "code",
   "execution_count": 604,
   "metadata": {},
   "outputs": [],
   "source": [
    "from selenium import webdriver\n",
    "from bs4 import BeautifulSoup\n",
    "import requests as req\n",
    "import pandas as pd\n",
    "import scrapy\n",
    "import csv\n",
    "import numpy"
   ]
  },
  {
   "cell_type": "code",
   "execution_count": 605,
   "metadata": {},
   "outputs": [],
   "source": [
    "resp = req.get(\"https://www.list.am/category/23?bid=76&price1=&price2=&crc=-1&_a27=0&_a2_1=0&_a2_2=0&_a1_1=0&_a1_2=0&_a15=0&_a28_1=0&_a28_2=0&_a13=0&_a16=0&_a17=0&_a23=0&_a22=0&n=0\")"
   ]
  },
  {
   "cell_type": "code",
   "execution_count": 606,
   "metadata": {},
   "outputs": [],
   "source": [
    "soup = BeautifulSoup(resp.content, 'lxml')"
   ]
  },
  {
   "cell_type": "code",
   "execution_count": 607,
   "metadata": {},
   "outputs": [],
   "source": [
    "cars_div = soup.find_all(\"div\", { \"class\" : \"gl\" })[1]"
   ]
  },
  {
   "cell_type": "code",
   "execution_count": 624,
   "metadata": {},
   "outputs": [],
   "source": [
    "car_names = [\"car name\"]\n",
    "car_prices = [\"car price\"]\n",
    "car_links = [\"car url\"]\n",
    "for car_as in cars_div.find_all(\"a\"):\n",
    "    name = car_as.find(\"div\", {\"class\" : \"l\"})  \n",
    "    price = car_as.find(\"div\", {\"class\" : \"p\"}) \n",
    "    if not price: \n",
    "        car_prices.append(\"N/A\")\n",
    "    else:\n",
    "        car_prices.append(price.text)               \n",
    "    car_links.append(\"https://list.am\"+car_as.get('href'))  \n",
    "    car_names.append(name.text)      "
   ]
  },
  {
   "cell_type": "code",
   "execution_count": 609,
   "metadata": {
    "scrolled": true
   },
   "outputs": [],
   "source": [
    "full_information_array = [car_names, car_prices, car_links]\n",
    "#print(full_information_array)    "
   ]
  },
  {
   "cell_type": "code",
   "execution_count": 610,
   "metadata": {},
   "outputs": [],
   "source": [
    "list_for_csv = pd.DataFrame(full_information_array)"
   ]
  },
  {
   "cell_type": "code",
   "execution_count": 615,
   "metadata": {},
   "outputs": [],
   "source": [
    "list_for_csv.T.to_csv('list.csv')"
   ]
  },
  {
   "cell_type": "code",
   "execution_count": 616,
   "metadata": {},
   "outputs": [
    {
     "data": {
      "text/html": [
       "<div>\n",
       "<style scoped>\n",
       "    .dataframe tbody tr th:only-of-type {\n",
       "        vertical-align: middle;\n",
       "    }\n",
       "\n",
       "    .dataframe tbody tr th {\n",
       "        vertical-align: top;\n",
       "    }\n",
       "\n",
       "    .dataframe thead th {\n",
       "        text-align: right;\n",
       "    }\n",
       "</style>\n",
       "<table border=\"1\" class=\"dataframe\">\n",
       "  <thead>\n",
       "    <tr style=\"text-align: right;\">\n",
       "      <th></th>\n",
       "      <th>Unnamed: 0</th>\n",
       "      <th>0</th>\n",
       "      <th>1</th>\n",
       "      <th>2</th>\n",
       "    </tr>\n",
       "  </thead>\n",
       "  <tbody>\n",
       "    <tr>\n",
       "      <th>0</th>\n",
       "      <td>0</td>\n",
       "      <td>car name</td>\n",
       "      <td>car price</td>\n",
       "      <td>car url</td>\n",
       "    </tr>\n",
       "    <tr>\n",
       "      <th>1</th>\n",
       "      <td>1</td>\n",
       "      <td>Toyota Camry, 2011 թ.</td>\n",
       "      <td>$12,500</td>\n",
       "      <td>https://list.am/item/10608614</td>\n",
       "    </tr>\n",
       "    <tr>\n",
       "      <th>2</th>\n",
       "      <td>2</td>\n",
       "      <td>Toyota Alphard, 2007 թ.</td>\n",
       "      <td>$8,800</td>\n",
       "      <td>https://list.am/item/12848615</td>\n",
       "    </tr>\n",
       "    <tr>\n",
       "      <th>3</th>\n",
       "      <td>3</td>\n",
       "      <td>Toyota Camry, 2014 թ. Poxanakum</td>\n",
       "      <td>$10,400</td>\n",
       "      <td>https://list.am/item/13167507</td>\n",
       "    </tr>\n",
       "    <tr>\n",
       "      <th>4</th>\n",
       "      <td>4</td>\n",
       "      <td>Toyota Land Cruiser Prado, 2011 թ. (4. L MATOR...</td>\n",
       "      <td>$27,000</td>\n",
       "      <td>https://list.am/item/12734179</td>\n",
       "    </tr>\n",
       "    <tr>\n",
       "      <th>...</th>\n",
       "      <td>...</td>\n",
       "      <td>...</td>\n",
       "      <td>...</td>\n",
       "      <td>...</td>\n",
       "    </tr>\n",
       "    <tr>\n",
       "      <th>92</th>\n",
       "      <td>92</td>\n",
       "      <td>Toyota voxy</td>\n",
       "      <td>NaN</td>\n",
       "      <td>https://list.am/item/12873447</td>\n",
       "    </tr>\n",
       "    <tr>\n",
       "      <th>93</th>\n",
       "      <td>93</td>\n",
       "      <td>Toyota Camry, 2010 թ.</td>\n",
       "      <td>NaN</td>\n",
       "      <td>https://list.am/item/12823171</td>\n",
       "    </tr>\n",
       "    <tr>\n",
       "      <th>94</th>\n",
       "      <td>94</td>\n",
       "      <td>Toyota alphard</td>\n",
       "      <td>NaN</td>\n",
       "      <td>https://list.am/item/13312251</td>\n",
       "    </tr>\n",
       "    <tr>\n",
       "      <th>95</th>\n",
       "      <td>95</td>\n",
       "      <td>Toyota Camry, 2014 թ. POXANAKUM</td>\n",
       "      <td>NaN</td>\n",
       "      <td>https://list.am/item/13702934</td>\n",
       "    </tr>\n",
       "    <tr>\n",
       "      <th>96</th>\n",
       "      <td>96</td>\n",
       "      <td>Toyota Corolla, 2011 թ. POXANAKUM</td>\n",
       "      <td>NaN</td>\n",
       "      <td>https://list.am/item/13680057</td>\n",
       "    </tr>\n",
       "  </tbody>\n",
       "</table>\n",
       "<p>97 rows × 4 columns</p>\n",
       "</div>"
      ],
      "text/plain": [
       "    Unnamed: 0                                                  0          1  \\\n",
       "0            0                                           car name  car price   \n",
       "1            1                              Toyota Camry, 2011 թ.    $12,500   \n",
       "2            2                            Toyota Alphard, 2007 թ.     $8,800   \n",
       "3            3                    Toyota Camry, 2014 թ. Poxanakum    $10,400   \n",
       "4            4  Toyota Land Cruiser Prado, 2011 թ. (4. L MATOR...    $27,000   \n",
       "..         ...                                                ...        ...   \n",
       "92          92                                        Toyota voxy        NaN   \n",
       "93          93                              Toyota Camry, 2010 թ.        NaN   \n",
       "94          94                                     Toyota alphard        NaN   \n",
       "95          95                    Toyota Camry, 2014 թ. POXANAKUM        NaN   \n",
       "96          96                  Toyota Corolla, 2011 թ. POXANAKUM        NaN   \n",
       "\n",
       "                                2  \n",
       "0                         car url  \n",
       "1   https://list.am/item/10608614  \n",
       "2   https://list.am/item/12848615  \n",
       "3   https://list.am/item/13167507  \n",
       "4   https://list.am/item/12734179  \n",
       "..                            ...  \n",
       "92  https://list.am/item/12873447  \n",
       "93  https://list.am/item/12823171  \n",
       "94  https://list.am/item/13312251  \n",
       "95  https://list.am/item/13702934  \n",
       "96  https://list.am/item/13680057  \n",
       "\n",
       "[97 rows x 4 columns]"
      ]
     },
     "execution_count": 616,
     "metadata": {},
     "output_type": "execute_result"
    }
   ],
   "source": [
    "pd.read_csv('list.csv')  "
   ]
  },
  {
   "cell_type": "code",
   "execution_count": null,
   "metadata": {},
   "outputs": [],
   "source": []
  },
  {
   "cell_type": "code",
   "execution_count": null,
   "metadata": {},
   "outputs": [],
   "source": []
  }
 ],
 "metadata": {
  "kernelspec": {
   "display_name": "Python 3",
   "language": "python",
   "name": "python3"
  },
  "language_info": {
   "codemirror_mode": {
    "name": "ipython",
    "version": 3
   },
   "file_extension": ".py",
   "mimetype": "text/x-python",
   "name": "python",
   "nbconvert_exporter": "python",
   "pygments_lexer": "ipython3",
   "version": "3.7.6"
  }
 },
 "nbformat": 4,
 "nbformat_minor": 4
}
